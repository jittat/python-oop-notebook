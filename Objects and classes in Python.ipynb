{
 "cells": [
  {
   "cell_type": "markdown",
   "metadata": {},
   "source": [
    "## การเขียนคลาสใน Python\n",
    "\n",
    "โน้ตนี้จะแสดงตัวอย่างการเขียนโปรแกรมเชิงวัตถุใน Python\n",
    "\n",
    "วัตถุใน Python เป็นตัวแปรที่มี attribute ที่สามารถพิจารณาว่าเป็น *ตัวแปร* ย่อยภายในตัวแปรนั้นได้ ทำให้เราสามารถจัดตัวแปรให้เป็นกลุ่มก้อนได้  วัตถุใน Python จะต้องเป็นสมาชิก (instance) ของคลาสบางคลาส"
   ]
  },
  {
   "cell_type": "markdown",
   "metadata": {},
   "source": [
    "### คลาสหมา (Dog)\n",
    "\n",
    "ตัวอย่างด้านล่างเราประกาศคลาส `Dog` โดยไม่ได้ระบุอะไรเพิ่มเติมเลย"
   ]
  },
  {
   "cell_type": "code",
   "execution_count": 1,
   "metadata": {
    "collapsed": true
   },
   "outputs": [],
   "source": [
    "class Dog:\n",
    "    pass"
   ]
  },
  {
   "cell_type": "markdown",
   "metadata": {},
   "source": [
    "จากนั้นเราก็สามารถสร้างวัตถุที่เป็นสมาชิกของคลาส `Dog` ได้ ดังนี้"
   ]
  },
  {
   "cell_type": "code",
   "execution_count": 2,
   "metadata": {
    "collapsed": true
   },
   "outputs": [],
   "source": [
    "dang = Dog()"
   ]
  },
  {
   "cell_type": "code",
   "execution_count": 3,
   "metadata": {
    "collapsed": true
   },
   "outputs": [],
   "source": [
    "dang.speed = 15\n",
    "dang.name = 'Dang Dangdee'"
   ]
  },
  {
   "cell_type": "code",
   "execution_count": 4,
   "metadata": {},
   "outputs": [
    {
     "name": "stdout",
     "output_type": "stream",
     "text": [
      "15 Dang Dangdee\n"
     ]
    }
   ],
   "source": [
    "print(dang.speed, dang.name)"
   ]
  },
  {
   "cell_type": "code",
   "execution_count": 5,
   "metadata": {
    "collapsed": true
   },
   "outputs": [],
   "source": [
    "dum = Dog()\n",
    "dum.name = 'Dum Dumngam'\n",
    "dum.speed = 20"
   ]
  },
  {
   "cell_type": "code",
   "execution_count": 6,
   "metadata": {},
   "outputs": [
    {
     "name": "stdout",
     "output_type": "stream",
     "text": [
      "20 Dum Dumngam\n"
     ]
    }
   ],
   "source": [
    "print(dum.speed, dum.name)"
   ]
  },
  {
   "cell_type": "markdown",
   "metadata": {},
   "source": [
    "สังเกตว่าเราสามารถใส่ค่าลงใน attribute ของวัตถุในคลาสได้เลย แต่ในหลาย ๆ กรณีเรามักนิยมให้วัตถุแต่ละอันในคลาสมี attribute เหมือน ๆ กัน และมีการกำหนดค่าเริ่มต้นมาทั้งแต่เริ่มต้นทำงาน\n",
    "\n",
    "เราอาจทำได้โดยเขียนเมทอดที่ทำงานดังกล่าว ดังตัวอย่างด้านล่าง (สังเกตการใช้งาน parameter แรกที่ชื่อว่า `self` ในเมทอด)"
   ]
  },
  {
   "cell_type": "code",
   "execution_count": 7,
   "metadata": {
    "collapsed": true
   },
   "outputs": [],
   "source": [
    "class Dog:\n",
    "    def initialize(self, n, s):\n",
    "        self.name = n\n",
    "        self.speed = s"
   ]
  },
  {
   "cell_type": "markdown",
   "metadata": {},
   "source": [
    "เราสามารถเรียกใช้เมทอดได้ดังตัวอย่างด้านล่าง"
   ]
  },
  {
   "cell_type": "code",
   "execution_count": 8,
   "metadata": {},
   "outputs": [
    {
     "name": "stdout",
     "output_type": "stream",
     "text": [
      "12 Dang Whitehair\n"
     ]
    }
   ],
   "source": [
    "dang = Dog()\n",
    "dang.initialize('Dang Whitehair', 12)\n",
    "print(dang.speed, dang.name)"
   ]
  },
  {
   "cell_type": "markdown",
   "metadata": {},
   "source": [
    "สังเกตว่าเมทอด `initialize` ในนิยามจะรับ parameter สามตัว (คือ `self`, `n`, `s`) แต่เมื่อเรียกใช้เราส่งพารามิเตอร์แค่สองตัว\n",
    "เพราะว่า `dang` จะถูกส่งไปเป็นอาร์กิวเมนท์แรกในฟังก์ชัน (ส่งไปที่ตัวแปร `self`)  กล่าวคือ การเรียก\n",
    "\n",
    "    dang.initialize('Dang Whiteskin', 12)\n",
    "    \n",
    "จะเหมือนกับสั่ง\n",
    "\n",
    "    Dog.intialize(dang, 'Dang Whitehair', 12)"
   ]
  },
  {
   "cell_type": "markdown",
   "metadata": {},
   "source": [
    "ถ้าเราต้องการพิมพ์ชื่อและความเร็วของสุนัขบ่อย ๆ เราสามารถเขียนเมทอดสำหรับงานดังกล่าวได้เช่นเดียวกัน โดยอาจจะเขียนเป็นเมทอด `greet` ดังด้านล่าง"
   ]
  },
  {
   "cell_type": "code",
   "execution_count": 9,
   "metadata": {
    "collapsed": true
   },
   "outputs": [],
   "source": [
    "class Dog:\n",
    "    def initialize(self, n, s):\n",
    "        self.name = n\n",
    "        self.speed = s\n",
    "\n",
    "    def greet(self):\n",
    "        print('My name is', self.name, 'and my speed is', self.speed)"
   ]
  },
  {
   "cell_type": "markdown",
   "metadata": {},
   "source": [
    "และเรียกใช้ได้ดังนี้"
   ]
  },
  {
   "cell_type": "code",
   "execution_count": 10,
   "metadata": {},
   "outputs": [
    {
     "name": "stdout",
     "output_type": "stream",
     "text": [
      "My name is Jood Seedum and my speed is 16\n"
     ]
    }
   ],
   "source": [
    "jood = Dog()\n",
    "jood.initialize('Jood Seedum', 16)\n",
    "jood.greet()"
   ]
  },
  {
   "cell_type": "markdown",
   "metadata": {},
   "source": [
    "สังเกตว่าในนิยามเมทอด `greet` มีการรับพารามิเตอร์ `self` เพื่อเอาไปใช้พิมพ์ในบรรทัดถัดไป  ในการเรียก `jood.greet()` เราเสมือนส่งตัวแปร `jood` ให้เป็นอาร์กิวเมนท์แรกที่ส่งให้กับเมทอด `greet` เช่นเดียวกับที่เกิดขึ้นตอนเรียก `initialize` นั่นเอง\n",
    "\n",
    "```\n",
    "jood.greet()\n",
    "   \\\n",
    "    \\\n",
    "     \\---\\\n",
    "          \\\n",
    "           \\ \n",
    "            \\\n",
    " Dog.greet(self)\n",
    " ```"
   ]
  },
  {
   "cell_type": "markdown",
   "metadata": {},
   "source": [
    "### เมท็อด `__init__`\n",
    "\n",
    "เมทอดที่กำหนดค่าเริ่มต้นเป็นเมทอดที่ใช้บ่อยมาก และโดยทั่วไป เราต้องการให้วัตถุที่สร้างขึ้นมานั้น มีสถานะที่ครบถ้วนทันที  ใน Python จึงได้ระบุชื่อเมทอดพิเศษ ชื่อ `__init__` ที่จะถูกเรียกโดยอัตโนมัติเมื่อมีการสร้างวัตถุ  เมทอดสำหรับ \"สร้าง\" ดังกล่าวจะถูกเรียกว่า constructor\n",
    "\n",
    "เราจะเปลี่ยนชื่อเมท็อด `initialize` ให้เป็น `__init__` และปรับวิธีสร้างวัตถุดังด้านล่าง"
   ]
  },
  {
   "cell_type": "code",
   "execution_count": 11,
   "metadata": {
    "collapsed": true
   },
   "outputs": [],
   "source": [
    "class Dog:\n",
    "    def __init__(self, n, s):\n",
    "        self.name = n\n",
    "        self.speed = s\n",
    "\n",
    "    def greet(self):\n",
    "        print('My name is', self.name, 'and my speed is', self.speed)"
   ]
  },
  {
   "cell_type": "code",
   "execution_count": 12,
   "metadata": {},
   "outputs": [
    {
     "name": "stdout",
     "output_type": "stream",
     "text": [
      "My name is Dang Whitehair and my speed is 12\n"
     ]
    }
   ],
   "source": [
    "dang = Dog('Dang Whitehair', 12)\n",
    "dang.greet()"
   ]
  },
  {
   "cell_type": "markdown",
   "metadata": {},
   "source": [
    "สังเกตว่าตอนเราสร้างวัตถุ ก็เป็นการเรียนเมทอด `__init__` นั่นเอง"
   ]
  },
  {
   "cell_type": "markdown",
   "metadata": {},
   "source": [
    "### เมทอด run_time สำหรับคำนวณเวลาวิ่ง และเมทอด bark สำหรับเห่า\n",
    "เราจะเพิ่มเมทอด `run_time` สำหรับคำนวณเวลาวิ่งสำหรับระยะทาง `distance` และเมทอด `bark` สำหรับพิมพ์เห่าได้ดังนี้"
   ]
  },
  {
   "cell_type": "code",
   "execution_count": 19,
   "metadata": {
    "collapsed": true
   },
   "outputs": [],
   "source": [
    "class Dog:\n",
    "    def __init__(self, n, s):\n",
    "        self.name = n\n",
    "        self.speed = s\n",
    "\n",
    "    def greet(self):\n",
    "        print('My name is', self.name, 'and my speed is', self.speed)\n",
    "        \n",
    "    def run_time(self, distance):\n",
    "        return distance / self.speed\n",
    "    \n",
    "    def bark(self):\n",
    "        print(\"Box box box\")"
   ]
  },
  {
   "cell_type": "code",
   "execution_count": 20,
   "metadata": {
    "scrolled": true
   },
   "outputs": [
    {
     "name": "stdout",
     "output_type": "stream",
     "text": [
      "7.6923076923076925\n",
      "3.125\n"
     ]
    }
   ],
   "source": [
    "dang = Dog('Dang Dangdee', 13)\n",
    "dum = Dog('Dum Dumngam', 16)\n",
    "\n",
    "# ทดลองพิมพ์มาดู\n",
    "print(dang.run_time(100))\n",
    "print(dum.run_time(50))"
   ]
  },
  {
   "cell_type": "code",
   "execution_count": 21,
   "metadata": {},
   "outputs": [
    {
     "name": "stdout",
     "output_type": "stream",
     "text": [
      "Box box box\n",
      "Box box box\n"
     ]
    }
   ],
   "source": [
    "# ทดลองเห่า\n",
    "dang.bark()\n",
    "dum.bark()"
   ]
  },
  {
   "cell_type": "markdown",
   "metadata": {},
   "source": [
    "### คลาสแมว (Cat)\n",
    "\n",
    "ในส่วนนี้เราจะศึกษาแนวคิดของ duck typing นั่นคือ เราสามารถส่งค่าตัวแปรให้เป็นประเภท (type) อะไรก็ได้ ตราบเท่าที่มันทำงานได้ตามที่เราต้องการ\n",
    "\n",
    "เราจะเพิ่มคลาส `Cat` ที่มีความเร็ว (`speed`) เหมือนกัน แต่ก่อนที่แมวจะวิ่งได้ จะหยุดนิ่ง ๆ ก่อน 1 หน่วย ก่อนจะวิ่งด้วยความเร็วที่ระบุ"
   ]
  },
  {
   "cell_type": "code",
   "execution_count": 23,
   "metadata": {
    "collapsed": true
   },
   "outputs": [],
   "source": [
    "class Cat:\n",
    "    def __init__(self, n, s):\n",
    "        self.name = n\n",
    "        self.speed = s\n",
    "\n",
    "    def run_time(self, distance):\n",
    "        return 1 + distance / self.speed\n",
    "    \n",
    "    def meaw(self):\n",
    "        print(\"Meaw meaw meaw\")"
   ]
  },
  {
   "cell_type": "code",
   "execution_count": 49,
   "metadata": {},
   "outputs": [
    {
     "name": "stdout",
     "output_type": "stream",
     "text": [
      "6.0\n"
     ]
    }
   ],
   "source": [
    "tao = Cat(\"Seetao\", 20)\n",
    "\n",
    "# พิมพ์เวลาวิ่ง\n",
    "print(tao.run_time(100))"
   ]
  },
  {
   "cell_type": "markdown",
   "metadata": {},
   "source": [
    "สังเกตว่าทั้ง `Dog` และ `Cat` มีเมทอด `run_time` เหมือนกัน ดังนั้นถ้าเรามีฟังก์ชันด้านล่างที่หาสิ่งมีชีวิตจากรายการ `animals` ที่จะวิ่งชนะ ในการวิ่งระยะทาง `distance` เราก็สามารถใส่วัตถุจากทั้งสองคลาสไปได้เหมือนกัน"
   ]
  },
  {
   "cell_type": "code",
   "execution_count": 50,
   "metadata": {
    "collapsed": true
   },
   "outputs": [],
   "source": [
    "def find_winner(animals, distance):\n",
    "    best_time = animals[0].run_time(distance)\n",
    "    best_animal = animals[0]\n",
    "    \n",
    "    for a in animals:\n",
    "        atime = a.run_time(distance)\n",
    "        if atime < best_time:\n",
    "            best_animal = a\n",
    "            best_time = atime\n",
    "    return best_animal"
   ]
  },
  {
   "cell_type": "code",
   "execution_count": 53,
   "metadata": {},
   "outputs": [
    {
     "name": "stdout",
     "output_type": "stream",
     "text": [
      "Seetao\n"
     ]
    }
   ],
   "source": [
    "# ทดลองที่ระยะ 100 หน่วย\n",
    "winner1 = find_winner([dang, dum, tao], 100)\n",
    "print(winner1.name)"
   ]
  },
  {
   "cell_type": "code",
   "execution_count": 55,
   "metadata": {},
   "outputs": [
    {
     "name": "stdout",
     "output_type": "stream",
     "text": [
      "Dum Dumngam\n"
     ]
    }
   ],
   "source": [
    "# ทดลองที่ระยะ 10 หน่วย\n",
    "winner2 = find_winner([dang, dum, tao], 10)\n",
    "print(winner2.name)"
   ]
  },
  {
   "cell_type": "markdown",
   "metadata": {},
   "source": [
    "อย่างไรก็ตาม ถ้าเราเรียก `bark` ที่ `winner1` จะเกิด error เพราะว่า Cat `bark` ไม่ได้"
   ]
  },
  {
   "cell_type": "code",
   "execution_count": 56,
   "metadata": {},
   "outputs": [
    {
     "ename": "AttributeError",
     "evalue": "'Cat' object has no attribute 'bark'",
     "output_type": "error",
     "traceback": [
      "\u001b[0;31m---------------------------------------------------------------------------\u001b[0m",
      "\u001b[0;31mAttributeError\u001b[0m                            Traceback (most recent call last)",
      "\u001b[0;32m<ipython-input-56-cf40afd8be57>\u001b[0m in \u001b[0;36m<module>\u001b[0;34m()\u001b[0m\n\u001b[0;32m----> 1\u001b[0;31m \u001b[0mwinner1\u001b[0m\u001b[0;34m.\u001b[0m\u001b[0mbark\u001b[0m\u001b[0;34m(\u001b[0m\u001b[0;34m)\u001b[0m\u001b[0;34m\u001b[0m\u001b[0m\n\u001b[0m",
      "\u001b[0;31mAttributeError\u001b[0m: 'Cat' object has no attribute 'bark'"
     ]
    }
   ],
   "source": [
    "winner1.bark()"
   ]
  },
  {
   "cell_type": "markdown",
   "metadata": {},
   "source": [
    "แต่เรียกที่ `winner2` ได้"
   ]
  },
  {
   "cell_type": "code",
   "execution_count": 58,
   "metadata": {},
   "outputs": [
    {
     "name": "stdout",
     "output_type": "stream",
     "text": [
      "Box box box\n"
     ]
    }
   ],
   "source": [
    "winner2.bark()"
   ]
  },
  {
   "cell_type": "markdown",
   "metadata": {},
   "source": [
    "### หมาเห่าดัง"
   ]
  },
  {
   "cell_type": "markdown",
   "metadata": {},
   "source": [
    "ในส่วนนี้เราจะศึกษาแนวคิดของการสืบทอดคุณสมบัติ (inheritance) อ่านเพิ่มที่ [เอกสาร Python](https://docs.python.org/3/tutorial/classes.html#inheritance)\n",
    "\n",
    "เราจะสร้างคลาส `BigDog` ที่เป็น สับคลาสของ `Dog` คลาสนี้จะทำทุกอย่างเหมือน `Dog` ยกเว้นเวลา `bark` จะเอ่ยชื่อตัวเองและพิมพ์เป็นตัวพิมพ์ใหญ่"
   ]
  },
  {
   "cell_type": "code",
   "execution_count": 61,
   "metadata": {
    "collapsed": true
   },
   "outputs": [],
   "source": [
    "class BigDog(Dog):\n",
    "    def bark(self):\n",
    "        print('BOX BOX BOX', self.name.upper())    # เมทอด upper แปลงสตริงเป็นพิมพ์ใหญ่"
   ]
  },
  {
   "cell_type": "markdown",
   "metadata": {},
   "source": [
    "สังเกตว่าเราระบุว่า `BigDog` นั้น inherit มาจาก `Dog` โดยใส่ `Dog` ในวงเล็บตอนประกาศคลาส `BigDog`"
   ]
  },
  {
   "cell_type": "code",
   "execution_count": 62,
   "metadata": {},
   "outputs": [
    {
     "name": "stdout",
     "output_type": "stream",
     "text": [
      "BOX BOX BOX JUMBO JUMPING\n"
     ]
    }
   ],
   "source": [
    "jumbo = BigDog('Jumbo Jumping', 9)\n",
    "\n",
    "# ทดลอง bark\n",
    "jumbo.bark()"
   ]
  },
  {
   "cell_type": "code",
   "execution_count": 65,
   "metadata": {},
   "outputs": [
    {
     "name": "stdout",
     "output_type": "stream",
     "text": [
      "My name is Jumbo Jumping and my speed is 9\n",
      "5.555555555555555\n"
     ]
    }
   ],
   "source": [
    "# ทดลองเมทอดอื่น ๆ จาก Dog\n",
    "jumbo.greet()\n",
    "print(jumbo.run_time(50))"
   ]
  }
 ],
 "metadata": {
  "kernelspec": {
   "display_name": "Python 3",
   "language": "python",
   "name": "python3"
  },
  "language_info": {
   "codemirror_mode": {
    "name": "ipython",
    "version": 3
   },
   "file_extension": ".py",
   "mimetype": "text/x-python",
   "name": "python",
   "nbconvert_exporter": "python",
   "pygments_lexer": "ipython3",
   "version": "3.5.3"
  }
 },
 "nbformat": 4,
 "nbformat_minor": 2
}
